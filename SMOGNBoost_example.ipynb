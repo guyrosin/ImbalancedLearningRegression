{
  "cells": [
    {
      "attachments": {},
      "cell_type": "markdown",
      "metadata": {
        "id": "IoG91SaLwtuq"
      },
      "source": [
        "# ImbalancedLearningRegression (0.0.1): Usage\n",
        "---\n",
        "## SMOGNBoost\n",
        "Amit Shanbhoug, 8677407 \\\n",
        "Adapted from Nick Kunz's SMOGN package: https://github.com/nickkunz/smogn/blob/master/examples/smogn_example_1_beg.ipynb\n"
      ]
    },
    {
      "attachments": {},
      "cell_type": "markdown",
      "metadata": {
        "id": "YOSHCUHR--nw"
      },
      "source": [
        "## Installation\n",
        "\n",
        "First, we install ImbalancedLearningRegression from the Github repository. Alternatively, we could install from the official PyPI distribution. However, the developer version is utilized here for the latest release. Works on Kernel: python 3.10.7, there may be some issues if you run with a different version, older or newer."
      ]
    },
    {
      "cell_type": "code",
      "execution_count": 1,
      "metadata": {
        "id": "u9SqBgJ8rduy"
      },
      "outputs": [],
      "source": [
        "%%capture\n",
        "## suppress install output\n",
        "\n",
        "## install pypi release\n",
        "# !pip install ImbalancedLearningRegression\n",
        "\n",
        "## install developer version\n",
        "# !pip install git+https://github.com/paobranco/ImbalancedLearningRegression.git"
      ]
    },
    {
      "attachments": {},
      "cell_type": "markdown",
      "metadata": {
        "id": "gKhs9eJd_Ab6"
      },
      "source": [
        "## Dependencies\n",
        "Next, we load the required dependencies. Here we import `ImbalancedLearningRegression` to later apply Synthetic Minority Over-Sampling Technique for Regression with Gaussian Noise. In addition, we use `pandas` for data handling, and `seaborn` to visualize our results."
      ]
    },
    {
      "cell_type": "code",
      "execution_count": 2,
      "metadata": {
        "id": "fPB6tSLinAFS"
      },
      "outputs": [],
      "source": [
        "## load dependencies\n",
        "## load libraries\n",
        "import numpy as np\n",
        "import pandas as pd\n",
        "import sklearn\n",
        "import math\n",
        "\n",
        "from sklearn import tree\n",
        "from sklearn import preprocessing\n",
        "from sklearn.model_selection import train_test_split\n",
        "import seaborn\n",
        "import matplotlib.pyplot as plt\n",
        "from ImbalancedLearningRegression.smogn import smogn\n",
        "from ImbalancedLearningRegression.smogn_boost import smogn_boost\n",
        "#from ImbalancedLearningRegression import *\n",
        "import ImbalancedLearningRegression as iblr\n",
        "from sklearn.model_selection import train_test_split"
      ]
    },
    {
      "attachments": {},
      "cell_type": "markdown",
      "metadata": {
        "id": "do8cJ25c_HcF"
      },
      "source": [
        "# Data Description\n",
        "The dataset is about red wine, all features have numeric values (which is necessary)\n",
        "\n",
        "## Loading the Data\n",
        "Below, we load our data (Imbalanced Insurance Data set), In this case, we name our training set `data` and test data as 'test-data'. \n"
      ]
    },
    {
      "cell_type": "code",
      "execution_count": 3,
      "metadata": {
        "id": "RaFdQ2od-qVO"
      },
      "outputs": [],
      "source": [
        "#ds = pd.read_csv(\"https://raw.githubusercontent.com/paobranco/ImbalancedLearningRegression/SMOGNBoost/data/housing.csv\")\n",
        "#ata = \"https://raw.githubusercontent.com/paobranco/ImbalancedLearningRegression/SMOGNBoost/data/College.csv\"\n",
        "#test_data = \"https://raw.githubusercontent.com/paobranco/ImbalancedLearningRegression/SMOGNBoost/data/CollegeTest.csv\"\n",
        "#print(len(ds))\n",
        "\n",
        "data = pd.read_csv(\"https://raw.githubusercontent.com/paobranco/ImbalancedLearningRegression/SMOGNBoost/data/red_wine.csv\")\n",
        "test_data = pd.read_csv(\"https://raw.githubusercontent.com/paobranco/ImbalancedLearningRegression/SMOGNBoost/data/red_wine_test.csv\")"
      ]
    },
    {
      "attachments": {},
      "cell_type": "markdown",
      "metadata": {
        "id": "D71nm6Co_KK-"
      },
      "source": [
        "## Introduction to SMOGNBoost\n",
        "Here we cover the focus of this example. We call the `smogn_boost` function from this package (`ImbalancedLearningRegression.smogn_boost`) and satisfy the minimum required arguments: `data` and `y`.\n",
        "\n",
        "* data: this argument takes a training data set\n",
        "* test_data: this argument takes a test data set\n",
        "* y: this argument takes a string, which specifies a response variable by header name \n",
        "* TotalIterations: this argument takes a positive integer, which specifies the total number of iterations\n",
        "* pert: perturbation / noise percentage\n",
        "* replace: sampling replacement (bool)\n",
        "* k: num of neighs for over-sampling (pos int)\n",
        "* error_threshold: this argument takes a positive integer, which specifies an error threshold \n",
        "* rel_thres: user defined relevance threshold \n",
        "* samp_method: \"balance or extreme\" - sampling method is perc"
      ]
    },
    {
      "cell_type": "code",
      "execution_count": 4,
      "metadata": {},
      "outputs": [],
      "source": [
        "## conduct smogn\n",
        "#smogn = smogn(data, y= \"SalePrice\")"
      ]
    },
    {
      "cell_type": "code",
      "execution_count": 5,
      "metadata": {
        "colab": {
          "base_uri": "https://localhost:8080/"
        },
        "id": "9qRV9hjPjJVF",
        "outputId": "9c4b115e-1e92-4f75-ecc5-f906fdf0cd6a"
      },
      "outputs": [
        {
          "name": "stdout",
          "output_type": "stream",
          "text": [
            "Dt Test Predictions:  []\n",
            "Weights:  0.0006459948320413437\n",
            "Dt Distribution:  [0.00064599 0.00064599 0.00064599 ... 0.00064599 0.00064599 0.00064599]\n",
            "phi control:  {'method': 'auto', 'num_pts': 3, 'ctrl_pts': [0.12, 0, 0, 0.52, 0, 0, 1.0, 1, 0]}\n",
            "Phi Control Points:  [0.12, 0, 0, 0.52, 0, 0, 1.0, 1, 0]\n"
          ]
        },
        {
          "name": "stderr",
          "output_type": "stream",
          "text": [
            "dist_matrix: 100%|##########| 141/141 [00:11<00:00, 12.04it/s]\n",
            "synth_matrix: 100%|##########| 141/141 [00:01<00:00, 94.78it/s]\n",
            "r_index: 100%|##########| 69/69 [00:00<00:00, 425.74it/s]\n"
          ]
        },
        {
          "name": "stdout",
          "output_type": "stream",
          "text": [
            "y_oversampled:  0       0.769968\n",
            "1       0.769968\n",
            "2       0.879750\n",
            "3       0.928226\n",
            "4       1.147500\n",
            "          ...   \n",
            "1541    0.250000\n",
            "1542    0.855000\n",
            "1543    0.440000\n",
            "1544    0.370000\n",
            "1545    0.630000\n",
            "Name: volatile acidity, Length: 1407, dtype: float64\n",
            "dt test predictions:  [array([0.47      , 0.4       , 0.835     , 0.63      , 0.81753049,\n",
            "       0.39      , 0.895     , 0.58      , 0.5       , 0.895     ,\n",
            "       0.90295082, 0.82      , 0.82      , 0.82      , 0.78249201,\n",
            "       0.78249201, 0.78249201, 0.80888889, 0.26      , 0.78249201,\n",
            "       0.49      , 0.8754416 , 0.31      , 0.52      , 0.33      ,\n",
            "       0.395     , 0.77      , 0.29      , 0.32      , 0.895     ,\n",
            "       0.605     , 0.91385445, 0.32      , 0.91385445, 0.64      ,\n",
            "       0.49      , 0.39      , 0.43      , 0.54      , 0.8754416 ,\n",
            "       0.43      , 0.5       , 0.82987952, 0.86      , 0.4       ,\n",
            "       0.69      , 0.705     , 0.91385445, 0.4       , 0.705     ,\n",
            "       0.26      ])]\n",
            "Model Error:  0.08333333333333341\n",
            "Dt Data Predictions:  [0.7        0.88       0.76       ... 0.63       0.78496815 0.65      ]\n",
            "Dt Distribution:  [0.00064599 0.00064599 0.00064599 ... 0.00064599 0.00064599 0.00064599]\n",
            "Epsilon T:  0.2422480620155029\n",
            "Current Beta:  0.2422480620155029\n",
            "beta:  [0.0586841236]\n",
            "Dt Normalized:  [[0.05868412 0.05868412 0.05868412 ... 0.05868412 1.         0.05868412]]\n"
          ]
        },
        {
          "name": "stderr",
          "output_type": "stream",
          "text": [
            "dist_matrix: 100%|##########| 141/141 [00:08<00:00, 15.92it/s]\n",
            "synth_matrix: 100%|##########| 141/141 [00:01<00:00, 133.34it/s]\n",
            "r_index: 100%|##########| 69/69 [00:00<00:00, 467.44it/s]\n"
          ]
        },
        {
          "name": "stdout",
          "output_type": "stream",
          "text": [
            "y_oversampled:  0       0.805263\n",
            "1       0.805263\n",
            "2       0.879750\n",
            "3       1.147500\n",
            "4       1.147500\n",
            "          ...   \n",
            "1540    0.520000\n",
            "1541    0.250000\n",
            "1542    0.855000\n",
            "1543    0.440000\n",
            "1547    0.600000\n",
            "Name: volatile acidity, Length: 1407, dtype: float64\n",
            "dt test predictions:  [array([0.47      , 0.4       , 0.835     , 0.63      , 0.81753049,\n",
            "       0.39      , 0.895     , 0.58      , 0.5       , 0.895     ,\n",
            "       0.90295082, 0.82      , 0.82      , 0.82      , 0.78249201,\n",
            "       0.78249201, 0.78249201, 0.80888889, 0.26      , 0.78249201,\n",
            "       0.49      , 0.8754416 , 0.31      , 0.52      , 0.33      ,\n",
            "       0.395     , 0.77      , 0.29      , 0.32      , 0.895     ,\n",
            "       0.605     , 0.91385445, 0.32      , 0.91385445, 0.64      ,\n",
            "       0.49      , 0.39      , 0.43      , 0.54      , 0.8754416 ,\n",
            "       0.43      , 0.5       , 0.82987952, 0.86      , 0.4       ,\n",
            "       0.69      , 0.705     , 0.91385445, 0.4       , 0.705     ,\n",
            "       0.26      ]), array([0.42      , 0.42      , 0.66      , 0.71      , 0.69      ,\n",
            "       0.63      , 0.79      , 0.42      , 0.78496815, 0.79      ,\n",
            "       0.47      , 0.64      , 0.64      , 0.64      , 1.1825    ,\n",
            "       1.1825    , 1.1825    , 0.53      , 0.36      , 1.1825    ,\n",
            "       0.4       , 0.49      , 0.16      , 1.2975    , 0.67      ,\n",
            "       0.43      , 0.37      , 0.44      , 0.24      , 0.36      ,\n",
            "       0.78996835, 0.64      , 0.36      , 0.64      , 0.6       ,\n",
            "       0.44      , 0.3       , 0.3       , 0.3       , 0.81      ,\n",
            "       0.67      , 0.58      , 0.395     , 0.5       , 0.8092284 ,\n",
            "       0.64      , 1.34      , 0.51      , 0.8092284 , 1.3       ,\n",
            "       0.42      ])]\n",
            "Model Error:  0.0\n",
            "Dt Data Predictions:  [0.71       0.88       0.6        ... 0.37       0.93433155 0.6       ]\n",
            "Dt Distribution:  [3.79096406e-05 3.79096406e-05 3.79096406e-05 ... 3.79096406e-05\n",
            " 6.45994832e-04 3.79096406e-05]\n",
            "Epsilon T:  0.08338465753643431\n",
            "Current Beta:  0.08338465753643431\n",
            "beta:  [0.0586841236, 0.0069530011]\n",
            "Dt Normalized:  [[4.08030776e-04 4.08030776e-04 5.86841236e-02 ... 5.86841236e-02\n",
            "  1.00000000e+00 4.08030776e-04]]\n",
            "[[0.7337331438731616, 0.6768601925893548, 0.9364069541177152, 0.8370582128168613, 0.9289504606768498, 0.6679315945892752, 0.9608787888868043, 0.8078960875184954, 0.7555541722273639, 0.9608787888868043, 0.9639978514796096, 0.9300141364646147, 0.9300141364646147, 0.9300141364646147, 0.9135023380956097, 0.9135023380956097, 0.9135023380956097, 0.9252028642490276, 0.5249399518845409, 0.9135023380956097, 0.7484294696360759, 0.9530866505815706, 0.5869696921288245, 0.7693857796571769, 0.6090181702061602, 0.6724241494008885, 0.9078268975027451, 0.5634502597458592, 0.5981662129513459, 0.9608787888868043, 0.8227784975967781, 0.9682309172340706, 0.5981662129513459, 0.9682309172340706, 0.842612040723982, 0.7484294696360759, 0.6679315945892752, 0.7023648537647998, 0.7826953132929126, 0.9530866505815706, 0.7023648537647998, 0.7555541722273639, 0.9342376693824184, 0.946810681537436, 0.6768601925893548, 0.8691403913946971, 0.8767247865778959, 0.9682309172340706, 0.6768601925893548, 0.8767247865778959, 0.5249399518845409], [0.8254027838880836, 0.8254027838880836, 0.9163714209903463, 0.9310688007436889, 0.9253179903472637, 0.9070085853615174, 0.9525574221616047, 0.8254027838880836, 0.9512713815512631, 0.9525574221616047, 0.8480406281861486, 0.9101781732411528, 0.9101781732411528, 0.9101781732411528, 1.0337381660943168, 1.0337381660943168, 1.0337381660943168, 0.8722214335483949, 0.7943776980707802, 1.0337381660943168, 0.8155830475619564, 0.8564278697053874, 0.6311660951239128, 1.0524172372152543, 0.9193980144265076, 0.8301386417013169, 0.7998921435889246, 0.8347656195169127, 0.7127718965973465, 0.7943776980707802, 0.9525493598037321, 0.9101781732411528, 0.7943776980707802, 0.9101781732411528, 0.89718884903539, 0.8347656195169127, 0.7576828099767701, 0.7576828099767701, 0.7576828099767701, 0.9575893010176476, 0.9193980144265076, 0.8903656644003536, 0.8130513831029845, 0.86049396094138, 0.9573974851798589, 0.9101781732411528, 1.0589040534851275, 0.8644795302036143, 0.9573974851798589, 1.0528046572977763, 0.8254027838880836]]\n"
          ]
        }
      ],
      "source": [
        "## conduct smogn_boost\n",
        "smogn_boost = smogn_boost(data, test_data, y=\"volatile acidity\", TotalIterations=2)"
      ]
    },
    {
      "cell_type": "markdown",
      "metadata": {
        "id": "JSYCW_1t-zra"
      },
      "source": [
        "## Results\n",
        "After conducting SMOGNBoost, we briefly examine the results. \n",
        "\n",
        "\n",
        "\n",
        "\n"
      ]
    },
    {
      "cell_type": "markdown",
      "metadata": {
        "id": "XA5_E-5oQF18"
      },
      "source": [
        "## Conclusion\n",
        "TO DO"
      ]
    },
    {
      "cell_type": "markdown",
      "metadata": {
        "id": "rAQ5iGDJa2LM"
      },
      "source": [
        "## References\n",
        "\n",
        "Branco, P., Torgo, L., Ribeiro, R. (2017). SMOGN: A Pre-Processing Approach for Imbalanced Regression. Proceedings of Machine Learning Research, 74:36-50. http://proceedings.mlr.press/v74/branco17a/branco17a.pdf.\n",
        "\n",
        "Torgo, L., Ribeiro, R. P., Pfahringer, B., & Branco, P. (2013, September). Smote for regression. In Portuguese conference on artificial intelligence (pp. 378-389). Springer, Berlin, Heidelberg. https://researchcommons.waikato.ac.nz/bitstream/handle/10289/8518/smoteR.pdf?sequence=23\n",
        "\n",
        "Kunz, N. (2019). SMOGN: Synthetic Minority Over-Sampling for Regression with Gaussian Noise (Version 0.1.0). Python Package Index.\n",
        "https://pypi.org/project/smogn. \n",
        "\n",
        "Gareth, J., Daniela, W., Trevor, H., & Robert, T. (2013). An introduction to statistical learning: with applications in R. Spinger.\n",
        "http://www-bcf.usc.edu/~gareth/ISL/data.html.\n",
        "\n"
      ]
    }
  ],
  "metadata": {
    "colab": {
      "collapsed_sections": [],
      "name": "SMOTE_example.ipynb",
      "provenance": []
    },
    "kernelspec": {
      "display_name": "Python 3.10.9 ('ImbalancedLearningRegression')",
      "language": "python",
      "name": "python3"
    },
    "language_info": {
      "codemirror_mode": {
        "name": "ipython",
        "version": 3
      },
      "file_extension": ".py",
      "mimetype": "text/x-python",
      "name": "python",
      "nbconvert_exporter": "python",
      "pygments_lexer": "ipython3",
      "version": "3.10.7"
    },
    "vscode": {
      "interpreter": {
        "hash": "1c961f0653c6e1bdf33e63c7e72c10f24f14dece539fb6df7c7f98656204e204"
      }
    }
  },
  "nbformat": 4,
  "nbformat_minor": 0
}
