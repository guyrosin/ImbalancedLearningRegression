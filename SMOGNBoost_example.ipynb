{
  "cells": [
    {
      "attachments": {},
      "cell_type": "markdown",
      "metadata": {
        "id": "IoG91SaLwtuq"
      },
      "source": [
        "# ImbalancedLearningRegression (0.0.1): Usage\n",
        "---\n",
        "## SMOGNBoost\n",
        "Amit Shanbhoug, 8677407 \\\n",
        "Adapted from Nick Kunz's SMOGN package: https://github.com/nickkunz/smogn/blob/master/examples/smogn_example_1_beg.ipynb\n"
      ]
    },
    {
      "attachments": {},
      "cell_type": "markdown",
      "metadata": {
        "id": "YOSHCUHR--nw"
      },
      "source": [
        "## Installation\n",
        "\n",
        "First, we install ImbalancedLearningRegression from the Github repository. Alternatively, we could install from the official PyPI distribution. However, the developer version is utilized here for the latest release. Works on Kernel: python 3.10.7, there may be some issues if you run with a different version, older or newer."
      ]
    },
    {
      "cell_type": "code",
      "execution_count": 1,
      "metadata": {
        "id": "u9SqBgJ8rduy"
      },
      "outputs": [],
      "source": [
        "%%capture\n",
        "## suppress install output\n",
        "\n",
        "## install pypi release\n",
        "# !pip install ImbalancedLearningRegression\n",
        "\n",
        "## install developer version\n",
        "# !pip install git+https://github.com/paobranco/ImbalancedLearningRegression.git"
      ]
    },
    {
      "attachments": {},
      "cell_type": "markdown",
      "metadata": {
        "id": "gKhs9eJd_Ab6"
      },
      "source": [
        "## Dependencies\n",
        "Next, we load the required dependencies. Here we import `ImbalancedLearningRegression` to later apply Synthetic Minority Over-Sampling Technique for Regression with Gaussian Noise. In addition, we use `pandas` for data handling, and `seaborn` to visualize our results."
      ]
    },
    {
      "cell_type": "code",
      "execution_count": 2,
      "metadata": {
        "id": "fPB6tSLinAFS"
      },
      "outputs": [],
      "source": [
        "## load dependencies\n",
        "## load libraries\n",
        "import numpy as np\n",
        "import pandas as pd\n",
        "import sklearn\n",
        "import math\n",
        "\n",
        "from sklearn import tree\n",
        "from sklearn import preprocessing\n",
        "from sklearn.model_selection import train_test_split\n",
        "import seaborn\n",
        "import matplotlib.pyplot as plt\n",
        "from ImbalancedLearningRegression.smogn import smogn\n",
        "from ImbalancedLearningRegression.smogn_boost import smogn_boost\n",
        "#from ImbalancedLearningRegression import *\n",
        "import ImbalancedLearningRegression as iblr\n",
        "from sklearn.model_selection import train_test_split"
      ]
    },
    {
      "attachments": {},
      "cell_type": "markdown",
      "metadata": {
        "id": "do8cJ25c_HcF"
      },
      "source": [
        "# Data Description\n",
        "The dataset is about red wine, all features have numeric values (which is necessary)\n",
        "\n",
        "## Loading the Data\n",
        "Below, we load our data (Imbalanced Insurance Data set), In this case, we name our training set `data` and test data as 'test-data'. \n"
      ]
    },
    {
      "cell_type": "code",
      "execution_count": 3,
      "metadata": {
        "id": "RaFdQ2od-qVO"
      },
      "outputs": [],
      "source": [
        "#ds = pd.read_csv(\"https://raw.githubusercontent.com/paobranco/ImbalancedLearningRegression/SMOGNBoost/data/housing.csv\")\n",
        "#ata = \"https://raw.githubusercontent.com/paobranco/ImbalancedLearningRegression/SMOGNBoost/data/College.csv\"\n",
        "#test_data = \"https://raw.githubusercontent.com/paobranco/ImbalancedLearningRegression/SMOGNBoost/data/CollegeTest.csv\"\n",
        "#print(len(ds))\n",
        "\n",
        "data = pd.read_csv(\"https://raw.githubusercontent.com/paobranco/ImbalancedLearningRegression/SMOGNBoost/data/red_wine.csv\")\n",
        "test_data = pd.read_csv(\"https://raw.githubusercontent.com/paobranco/ImbalancedLearningRegression/SMOGNBoost/data/red_wine_test.csv\")"
      ]
    },
    {
      "attachments": {},
      "cell_type": "markdown",
      "metadata": {
        "id": "D71nm6Co_KK-"
      },
      "source": [
        "## Introduction to SMOGNBoost\n",
        "Here we cover the focus of this example. We call the `smogn_boost` function from this package (`ImbalancedLearningRegression.smogn_boost`) and satisfy the minimum required arguments: `data` and `y`.\n",
        "\n",
        "* data: this argument takes a training data set\n",
        "* test_data: this argument takes a test data set\n",
        "* y: this argument takes a string, which specifies a response variable by header name \n",
        "* TotalIterations: this argument takes a positive integer, which specifies the total number of iterations\n",
        "* pert: perturbation / noise percentage\n",
        "* replace: sampling replacement (bool)\n",
        "* k: num of neighs for over-sampling (pos int)\n",
        "* error_threshold: this argument takes a positive integer, which specifies an error threshold \n",
        "* rel_thres: user defined relevance threshold \n",
        "* samp_method: \"balance or extreme\" - sampling method is perc"
      ]
    },
    {
      "cell_type": "code",
      "execution_count": 4,
      "metadata": {},
      "outputs": [],
      "source": [
        "## conduct smogn\n",
        "#smogn = smogn(data, y= \"SalePrice\")"
      ]
    },
    {
      "cell_type": "code",
      "execution_count": 5,
      "metadata": {
        "colab": {
          "base_uri": "https://localhost:8080/"
        },
        "id": "9qRV9hjPjJVF",
        "outputId": "9c4b115e-1e92-4f75-ecc5-f906fdf0cd6a"
      },
      "outputs": [
        {
          "name": "stdout",
          "output_type": "stream",
          "text": [
            "Dt Test Predictions:  [1. 1.]\n",
            "Weights:  0.0006459948320413437\n",
            "Dt Distribution:  [0.00064599 0.00064599 0.00064599 ... 0.00064599 0.00064599 0.00064599]\n",
            "phi control:  {'method': 'auto', 'num_pts': 3, 'ctrl_pts': [0.12, 0, 0, 0.52, 0, 0, 1.0, 1, 0]}\n",
            "Phi Control Points:  [0.12, 0, 0, 0.52, 0, 0, 1.0, 1, 0]\n"
          ]
        },
        {
          "name": "stderr",
          "output_type": "stream",
          "text": [
            "dist_matrix: 100%|##########| 141/141 [00:08<00:00, 16.35it/s]\n",
            "synth_matrix: 100%|##########| 141/141 [00:01<00:00, 107.18it/s]\n",
            "r_index: 100%|##########| 69/69 [00:00<00:00, 425.38it/s]\n"
          ]
        },
        {
          "name": "stdout",
          "output_type": "stream",
          "text": [
            "y_oversampled:  0       0.769968\n",
            "1       0.769968\n",
            "2       1.147500\n",
            "3       0.805263\n",
            "4       1.147500\n",
            "          ...   \n",
            "1540    0.520000\n",
            "1542    0.855000\n",
            "1543    0.440000\n",
            "1544    0.370000\n",
            "1546    0.570000\n",
            "Name: volatile acidity, Length: 1407, dtype: float64\n",
            "dt test predictions:  [1.         1.         1.3425     0.49       0.65       0.665\n",
            " 0.80888889 0.665      0.735      0.43       0.88367978 0.735\n",
            " 0.52       0.57       0.57       0.57       0.56       0.56\n",
            " 0.56       0.67       0.31       0.56       0.65       0.5\n",
            " 0.44       0.47       0.935      0.29       0.44       0.37\n",
            " 0.29       0.36       0.48       0.64       0.4        0.64\n",
            " 0.64       0.44       0.37       0.36       0.36       0.48\n",
            " 0.38       0.44       0.53       0.54       0.42       0.52\n",
            " 0.88486188 0.42       0.42       0.88486188 0.37      ]\n",
            "Model Error:  0.6699507389162561\n",
            "Dt Data Predictions:  [0.66       0.88       0.76       ... 0.36       0.57       1.00197044]\n",
            "Dt Distribution:  [0.00064599 0.00064599 0.00064599 ... 0.00064599 0.00064599 0.00064599]\n",
            "Epsilon T:  0.2280361757105935\n",
            "Current Beta:  0.2280361757105935\n",
            "beta:  [0.0520004974]\n",
            "Dt Normalized:  [[0.0520005 0.0520005 0.0520005 ... 1.        0.0520005 1.       ]]\n",
            "Value:  0.7901101665572537\n",
            "Result:  [0.7901101665572537]\n"
          ]
        },
        {
          "name": "stderr",
          "output_type": "stream",
          "text": [
            "dist_matrix: 100%|##########| 141/141 [00:08<00:00, 16.37it/s]\n",
            "synth_matrix: 100%|##########| 141/141 [00:01<00:00, 103.22it/s]\n",
            "r_index: 100%|##########| 69/69 [00:00<00:00, 385.84it/s]\n"
          ]
        },
        {
          "name": "stdout",
          "output_type": "stream",
          "text": [
            "y_oversampled:  0       0.769968\n",
            "1       1.147500\n",
            "2       1.147500\n",
            "3       0.928226\n",
            "4       1.147500\n",
            "          ...   \n",
            "1542    0.855000\n",
            "1543    0.440000\n",
            "1544    0.370000\n",
            "1546    0.570000\n",
            "1547    0.600000\n",
            "Name: volatile acidity, Length: 1407, dtype: float64\n",
            "dt test predictions:  [1.         1.         1.3425     0.49       0.65       0.665\n",
            " 0.80888889 0.665      0.735      0.43       0.88367978 0.735\n",
            " 0.52       0.57       0.57       0.57       0.56       0.56\n",
            " 0.56       0.67       0.31       0.56       0.65       0.5\n",
            " 0.44       0.47       0.935      0.29       0.44       0.37\n",
            " 0.29       0.36       0.48       0.64       0.4        0.64\n",
            " 0.64       0.44       0.37       0.36       0.36       0.48\n",
            " 0.38       0.44       0.53       0.54       0.42       0.52\n",
            " 0.88486188 0.42       0.42       0.88486188 0.37       0.37\n",
            " 0.33       0.835      0.71       0.86249275 0.64       0.79\n",
            " 0.53       0.54       0.79       0.38       0.69       0.69\n",
            " 0.69       0.61       0.61       0.61       0.67       0.31\n",
            " 0.61       0.37       0.53       0.31       0.53       0.32\n",
            " 0.66       1.02       0.24       0.36       0.88991643 0.52\n",
            " 0.54       0.23       0.54       1.03073986 0.28       0.37\n",
            " 0.21       0.28       0.66       0.34       0.57       0.52\n",
            " 0.66       0.52       0.67       0.68       0.51       0.52\n",
            " 0.68       0.3       ]\n",
            "Model Error:  0.0\n",
            "Dt Data Predictions:  [0.7        0.88       0.87897727 ... 0.24       0.57       0.6       ]\n",
            "Dt Distribution:  [3.35920526e-05 3.35920526e-05 3.35920526e-05 ... 6.45994832e-04\n",
            " 3.35920526e-05 6.45994832e-04]\n",
            "Epsilon T:  0.07918870824987057\n",
            "Current Beta:  0.07918870824987057\n",
            "beta:  [0.0520004974, 0.0062708515]\n",
            "Dt Normalized:  [[3.26087397e-04 3.26087397e-04 3.26087397e-04 ... 1.00000000e+00\n",
            "  3.26087397e-04 6.27085150e-03]]\n",
            "Value:  0.8397365826874748\n",
            "Result:  [0.7901101665572537, 0.8397365826874748]\n"
          ]
        }
      ],
      "source": [
        "## conduct smogn_boost\n",
        "smogn_boost = smogn_boost(data, test_data, y=\"volatile acidity\", TotalIterations=2)"
      ]
    },
    {
      "cell_type": "markdown",
      "metadata": {
        "id": "JSYCW_1t-zra"
      },
      "source": [
        "## Results\n",
        "After conducting SMOGNBoost, we briefly examine the results. \n",
        "\n",
        "\n",
        "\n",
        "\n"
      ]
    },
    {
      "cell_type": "markdown",
      "metadata": {
        "id": "XA5_E-5oQF18"
      },
      "source": [
        "## Conclusion\n",
        "TO DO"
      ]
    },
    {
      "cell_type": "markdown",
      "metadata": {
        "id": "rAQ5iGDJa2LM"
      },
      "source": [
        "## References\n",
        "\n",
        "Branco, P., Torgo, L., Ribeiro, R. (2017). SMOGN: A Pre-Processing Approach for Imbalanced Regression. Proceedings of Machine Learning Research, 74:36-50. http://proceedings.mlr.press/v74/branco17a/branco17a.pdf.\n",
        "\n",
        "Torgo, L., Ribeiro, R. P., Pfahringer, B., & Branco, P. (2013, September). Smote for regression. In Portuguese conference on artificial intelligence (pp. 378-389). Springer, Berlin, Heidelberg. https://researchcommons.waikato.ac.nz/bitstream/handle/10289/8518/smoteR.pdf?sequence=23\n",
        "\n",
        "Kunz, N. (2019). SMOGN: Synthetic Minority Over-Sampling for Regression with Gaussian Noise (Version 0.1.0). Python Package Index.\n",
        "https://pypi.org/project/smogn. \n",
        "\n",
        "Gareth, J., Daniela, W., Trevor, H., & Robert, T. (2013). An introduction to statistical learning: with applications in R. Spinger.\n",
        "http://www-bcf.usc.edu/~gareth/ISL/data.html.\n",
        "\n"
      ]
    }
  ],
  "metadata": {
    "colab": {
      "collapsed_sections": [],
      "name": "SMOTE_example.ipynb",
      "provenance": []
    },
    "kernelspec": {
      "display_name": "Python 3.10.9 ('ImbalancedLearningRegression')",
      "language": "python",
      "name": "python3"
    },
    "language_info": {
      "codemirror_mode": {
        "name": "ipython",
        "version": 3
      },
      "file_extension": ".py",
      "mimetype": "text/x-python",
      "name": "python",
      "nbconvert_exporter": "python",
      "pygments_lexer": "ipython3",
      "version": "3.10.7"
    },
    "vscode": {
      "interpreter": {
        "hash": "1c961f0653c6e1bdf33e63c7e72c10f24f14dece539fb6df7c7f98656204e204"
      }
    }
  },
  "nbformat": 4,
  "nbformat_minor": 0
}
