{
 "cells": [
  {
   "cell_type": "markdown",
   "metadata": {
    "colab_type": "text",
    "id": "IoG91SaLwtuq"
   },
   "source": [
    "# ImbalancedLearningRegression (0.0.1): Usage\n",
    "---\n",
    "## Nearmiss Undersampling\n",
    "\n",
    "Cameron Cooke, ccook059@uottawa.ca@uottawa.ca \\\n",
    "Adapted from Nick Kunz's SMOGN package: https://github.com/nickkunz/smogn/blob/master/examples/smogn_example_1_beg.ipynb"
   ]
  },
  {
   "cell_type": "markdown",
   "metadata": {
    "colab_type": "text",
    "id": "YOSHCUHR--nw"
   },
   "source": [
    "## Installation\n",
    "\n",
    "First, we install ImbalancedLearningRegression from the Github repository. Alternatively, we could install from the official PyPI distribution. However, the developer version is utilized here for the latest release."
   ]
  },
  {
   "cell_type": "code",
   "execution_count": 16,
   "metadata": {
    "colab": {},
    "colab_type": "code",
    "id": "u9SqBgJ8rduy"
   },
   "outputs": [],
   "source": [
    "%%capture\n",
    "## suppress install output\n",
    "\n",
    "## install pypi release\n",
    "# !pip install ImbalancedLearningRegression\n",
    "\n",
    "## install developer version\n",
    "#pip install git+https://github.com/paobranco/ImbalancedLearningRegression.git"
   ]
  },
  {
   "cell_type": "markdown",
   "metadata": {
    "colab_type": "text",
    "id": "gKhs9eJd_Ab6"
   },
   "source": [
    "## Dependencies\n",
    "Next, we load the required dependencies. Here we import `ImbalancedLearningRegression` to later apply Nearmiss algorithm for under-sampling regression data. In addition, we use `pandas` for data handling, and `seaborn` to visualize our results."
   ]
  },
  {
   "cell_type": "code",
   "execution_count": 17,
   "metadata": {
    "colab": {},
    "colab_type": "code",
    "id": "fPB6tSLinAFS"
   },
   "outputs": [],
   "source": [
    "## load dependencies\n",
    "import ImbalancedLearningRegression as iblr\n",
    "import sys\n",
    "import pandas\n",
    "import seaborn\n",
    "import matplotlib.pyplot as plt\n",
    "import nearmiss"
   ]
  },
  {
   "cell_type": "markdown",
   "metadata": {
    "colab_type": "text",
    "id": "do8cJ25c_HcF"
   },
   "source": [
    "## Data\n",
    "After, we load our data. In this example, we use the Ames Housing Dataset training split retrieved from Kaggle, originally complied by Dean De Cock. In this case, we name our training set `housing`\n"
   ]
  },
  {
   "cell_type": "code",
   "execution_count": 18,
   "metadata": {
    "colab": {},
    "colab_type": "code",
    "id": "RaFdQ2od-qVO"
   },
   "outputs": [],
   "source": [
    "## load data\n",
    "housing = pandas.read_csv(\n",
    "\n",
    "    ## http://jse.amstat.org/v19n3/decock.pdf\n",
    "    'https://raw.githubusercontent.com/paobranco/ImbalancedLearningRegression/master/data/housing.csv'\n",
    ")"
   ]
  },
  {
   "cell_type": "markdown",
   "metadata": {
    "colab_type": "text",
    "id": "D71nm6Co_KK-"
   },
   "source": [
    "## Nearmiss\n",
    "Here we cover the focus of this example. We call the `Nearmiss` function from this package (`ImbalancedLearningRegression.nearmiss`) and satisfy the minimum required arguments: `data`, `y`, and 'version'.\n",
    "\n",
    "* The `data` argument takes a Pandas DataFrame, which contains the training set split. In this example, we input the previously loaded `housing` training set with follow input: `data = housing`\n",
    "\n",
    "* The `y` argument takes a string, which specifies a continuous reponse variable by header name. In this example, we input `'SalePrice'` in the interest of predicting the sale price of homes in Ames, Iowa with the following input: `y = 'SalePrice'`\n",
    "\n",
    "* The `version` argument takes an int, either 1, 2, or 3, and specifies which version of Nearmiss is going to be used. For further description of this, please see the documentation."
   ]
  },
  {
   "cell_type": "code",
   "execution_count": null,
   "metadata": {
    "colab": {},
    "colab_type": "code",
    "id": "9qRV9hjPjJVF"
   },
   "outputs": [],
   "source": [
    "## conduct nearmiss\n",
    "housing_nearmiss = nearmiss.nearmiss(\n",
    "    \n",
    "    data = housing,  ## pandas dataframe\n",
    "    y = 'SalePrice',  ## string ('header name')\n",
    "    version = 1  ## int \n",
    ")"
   ]
  },
  {
   "cell_type": "markdown",
   "metadata": {
    "colab_type": "text",
    "id": "NBKhYMx4OmKW"
   },
   "source": [
    "**Note:**\n",
    "\n",
    "In this example, the regions of interest within the response variable `y` are automatically determined by the box plot extremes. The extreme values are considered rare \"minorty\" values are over-sampled. The values closer the median are considered \"majority\" values and are under-sampled.\n",
    "\n",
    "If there are no box plot extremes contained in the reponse variable `y`, the argument `rel_method = manual` must be specified, and an input matrix must be placed into the argument `rel_ctrl_pts_rg` indicating the regions of rarity in `y`.\n",
    "\n",
    "More information regarding the matrix input to the `rel_ctrl_pts_rg` argument and manual over-sampling can be found within the function's doc string, as well as in Nick Kunz's package SMOGN: https://github.com/nickkunz/smogn/blob/master/examples/smogn_example_3_adv.ipynb.\n",
    "\n",
    "It is also important to mention that by default, `ImbalancedLearningRegression.nearmiss` will first automatically remove columns containing missing values and then remove rows, as it cannot input data containing missing values.\n"
   ]
  },
  {
   "attachments": {},
   "cell_type": "markdown",
   "metadata": {
    "colab_type": "text",
    "id": "JSYCW_1t-zra"
   },
   "source": [
    "## Results\n",
    "After conducting Nearmiss algorithm, we briefly examine the results. \n",
    "\n",
    "We can see that the number of observations (rows) in the original training set decreased from 1460 to 215, while the number of features (columns) also decreased from 81 to 62. \n",
    "\n",
    "Recall that `ImbalancedLearningRegression.nearmiss` automatically removes features containing missing values. In this case, 19 features contained missing values and were therefore omitted.\n",
    "\n",
    "The reduction in observations were a result of under-sampling. More detailed information in this regard can be found in the original paper cited in the **References** section.\n",
    "\n"
   ]
  },
  {
   "cell_type": "code",
   "execution_count": 20,
   "metadata": {
    "colab": {
     "base_uri": "https://localhost:8080/",
     "height": 34
    },
    "colab_type": "code",
    "id": "spqtcHX1yTfM",
    "outputId": "ed49d0b5-69a8-49a6-8035-0be3c2607868"
   },
   "outputs": [
    {
     "data": {
      "text/plain": [
       "(1460, 81)"
      ]
     },
     "execution_count": 20,
     "metadata": {},
     "output_type": "execute_result"
    }
   ],
   "source": [
    "## dimensions - original data \n",
    "housing.shape"
   ]
  },
  {
   "cell_type": "code",
   "execution_count": 21,
   "metadata": {
    "colab": {
     "base_uri": "https://localhost:8080/",
     "height": 34
    },
    "colab_type": "code",
    "id": "BJnFAM8VpTUZ",
    "outputId": "3358bbda-f48f-49a5-b8a6-9d48627aeb7d"
   },
   "outputs": [
    {
     "data": {
      "text/plain": [
       "(215, 62)"
      ]
     },
     "execution_count": 21,
     "metadata": {},
     "output_type": "execute_result"
    }
   ],
   "source": [
    "## dimensions - modified data\n",
    "housing_nearmiss.shape"
   ]
  },
  {
   "cell_type": "markdown",
   "metadata": {
    "colab_type": "text",
    "id": "WgJWRm3AN-Vn"
   },
   "source": [
    "Further examining the results, we can see that the distribution of the response variable has changed. By calling the `box_plot_stats` function from this package (`ImbalancedLearningRegression.box_plot_stats`) we quickly verify.\n",
    "\n",
    "Notice that the modified training set's box plot five number summary has changed, where the distribution of the response variable has slightly *skewed left* when compared to the original training set."
   ]
  },
  {
   "cell_type": "code",
   "execution_count": 22,
   "metadata": {
    "colab": {
     "base_uri": "https://localhost:8080/",
     "height": 34
    },
    "colab_type": "code",
    "id": "6IjxkbBwspsN",
    "outputId": "06f72df3-0965-4692-a4a6-7c116fd6c2c3"
   },
   "outputs": [
    {
     "data": {
      "text/plain": [
       "array([ 34900., 129950., 163000., 214000., 340000.])"
      ]
     },
     "execution_count": 22,
     "metadata": {},
     "output_type": "execute_result"
    }
   ],
   "source": [
    "## box plot stats - original data \n",
    "iblr.box_plot_stats(housing['SalePrice'])['stats']"
   ]
  },
  {
   "cell_type": "code",
   "execution_count": 23,
   "metadata": {
    "colab": {
     "base_uri": "https://localhost:8080/",
     "height": 34
    },
    "colab_type": "code",
    "id": "MCZtVBfU-CLM",
    "outputId": "8a69d459-9092-473c-a095-338f8f1ba435"
   },
   "outputs": [
    {
     "data": {
      "text/plain": [
       "array([252000., 274150., 306000., 352000., 466500.])"
      ]
     },
     "execution_count": 23,
     "metadata": {},
     "output_type": "execute_result"
    }
   ],
   "source": [
    "## box plot stats - modified data\n",
    "iblr.box_plot_stats(housing_nearmiss['SalePrice'])['stats']"
   ]
  },
  {
   "attachments": {},
   "cell_type": "markdown",
   "metadata": {
    "colab_type": "text",
    "id": "Nex80wz1-VKY"
   },
   "source": [
    "Plotting the results of both the original and modified training sets, the *skewed right* distribution of the response variable in the modified training set is very evident, because of the drastic change in size between datasets.\n",
    "\n",
    "In this example, Nearmiss under-sampled observations that were closer to the median (those considered \"majority\")."
   ]
  },
  {
   "cell_type": "code",
   "execution_count": 24,
   "metadata": {
    "colab": {
     "base_uri": "https://localhost:8080/",
     "height": 282
    },
    "colab_type": "code",
    "id": "mr_My8zHEM_9",
    "outputId": "439e40b9-6360-4169-cd67-50c2f6001dd8"
   },
   "outputs": [
    {
     "data": {
      "text/plain": [
       "<matplotlib.legend.Legend at 0x251698bda50>"
      ]
     },
     "execution_count": 24,
     "metadata": {},
     "output_type": "execute_result"
    },
    {
     "data": {
      "image/png": "[encoded data removed]",
      "text/plain": [
       "<Figure size 640x480 with 1 Axes>"
      ]
     },
     "metadata": {},
     "output_type": "display_data"
    }
   ],
   "source": [
    "## plot y distribution \n",
    "seaborn.kdeplot(housing['SalePrice'], label = \"Test\")\n",
    "seaborn.kdeplot(housing_nearmiss['SalePrice'], label = \"Modified\")\n",
    "plt.legend(labels=[\"Original\",\"Modified\"])"
   ]
  },
  {
   "cell_type": "markdown",
   "metadata": {
    "colab_type": "text",
    "id": "XA5_E-5oQF18"
   },
   "source": [
    "## More datasets\n",
    "To verify the reliability of the implementation, we test it with more datasets.\n",
    "\n",
    "We use the College dataset retrieved from Kaggle, uploaded by Fares Sayah. In this case, we name our training set `college`. We run the same procedures as previously shown."
   ]
  },
  {
   "cell_type": "code",
   "execution_count": null,
   "metadata": {},
   "outputs": [],
   "source": [
    "college = pandas.read_csv(\n",
    "\n",
    "    'https://raw.githubusercontent.com/paobranco/ImbalancedLearningRegression/master/data/College.csv'\n",
    ")\n",
    "\n",
    "## conduct nearmiss\n",
    "college_nearmiss = nearmiss.nearmiss(\n",
    "    \n",
    "    data = college,  ## pandas dataframe\n",
    "    y = 'Grad.Rate', ## string ('header name')\n",
    "    version = 3, ## relevance threshold considered rare\n",
    ")"
   ]
  },
  {
   "cell_type": "code",
   "execution_count": 26,
   "metadata": {},
   "outputs": [
    {
     "data": {
      "text/plain": [
       "(777, 19)"
      ]
     },
     "execution_count": 26,
     "metadata": {},
     "output_type": "execute_result"
    }
   ],
   "source": [
    "## dimensions - original data \n",
    "college.shape"
   ]
  },
  {
   "cell_type": "code",
   "execution_count": 27,
   "metadata": {},
   "outputs": [
    {
     "data": {
      "text/plain": [
       "(197, 19)"
      ]
     },
     "execution_count": 27,
     "metadata": {},
     "output_type": "execute_result"
    }
   ],
   "source": [
    "## dimensions - modified data\n",
    "college_nearmiss.shape"
   ]
  },
  {
   "cell_type": "code",
   "execution_count": 28,
   "metadata": {},
   "outputs": [
    {
     "data": {
      "text/plain": [
       "array([ 18.,  53.,  65.,  78., 100.])"
      ]
     },
     "execution_count": 28,
     "metadata": {},
     "output_type": "execute_result"
    }
   ],
   "source": [
    "## box plot stats - original data \n",
    "iblr.box_plot_stats(college['Grad.Rate'])['stats']"
   ]
  },
  {
   "cell_type": "code",
   "execution_count": 29,
   "metadata": {},
   "outputs": [
    {
     "data": {
      "text/plain": [
       "array([ 10.,  39.,  85.,  92., 118.])"
      ]
     },
     "execution_count": 29,
     "metadata": {},
     "output_type": "execute_result"
    }
   ],
   "source": [
    "## box plot stats - modified data\n",
    "iblr.box_plot_stats(college_nearmiss['Grad.Rate'])['stats']"
   ]
  },
  {
   "cell_type": "code",
   "execution_count": 30,
   "metadata": {},
   "outputs": [
    {
     "data": {
      "text/plain": [
       "<matplotlib.legend.Legend at 0x25164697f40>"
      ]
     },
     "execution_count": 30,
     "metadata": {},
     "output_type": "execute_result"
    },
    {
     "data": {
      "image/png": "[encoded data removed]",
      "text/plain": [
       "<Figure size 640x480 with 1 Axes>"
      ]
     },
     "metadata": {},
     "output_type": "display_data"
    }
   ],
   "source": [
    "## plot y distribution \n",
    "seaborn.kdeplot(college['Grad.Rate'], label = \"Original\")\n",
    "seaborn.kdeplot(college_nearmiss['Grad.Rate'], label = \"Modified\")\n",
    "plt.legend(labels=[\"Original\",\"Modified\"])"
   ]
  },
  {
   "attachments": {},
   "cell_type": "markdown",
   "metadata": {
    "colab_type": "text",
    "id": "JSYCW_1t-zra"
   },
   "source": [
    "## Results 2\n",
    "We can see that the number of observations (rows) in the original training set decreased from 777 to 197, while the number of features (columns) didn't change. \n",
    "\n",
    "The decrease in observations were a result of under-sampling.\n",
    "\n",
    "Further examining the results, we can see that the distribution of the response variable has changed. By calling the `box_plot_stats` function from this package (`ImbalancedLearningRegression.box_plot_stats`) we quickly verify.\n",
    "\n",
    "In this example, Nearmiss under-sampled observations whose `'Grad.Rate'` was found to be closer to the median (those considered \"majority\").\n",
    "\n"
   ]
  },
  {
   "cell_type": "markdown",
   "metadata": {
    "colab_type": "text",
    "id": "XA5_E-5oQF18"
   },
   "source": [
    "## Conclusion\n",
    "In the examples, we covered the fundamentals of Nearmiss in ImbalancedLearningRegression. We utilized the Ames Housing Dataset and College dataset to conduct Nearmiss algorithm with the minimum required arguments. \n",
    "\n",
    "Nearmiss under-sampled \"majority\" values in a continuous response variable. The results were briefly examined with the box plot's five number summary and plotted for visual confirmation.\n",
    "\n",
    "<!-- More examples, where additional features of SMOGN are explored can be found within the packages example directory. Developer updates are available in the package's Github repository at https://github.com/nickkunz/smogn. Official releases are available in the Python Package Index and can be found at https://pypi.org/project/smogn. -->\n",
    "\n"
   ]
  },
  {
   "cell_type": "markdown",
   "metadata": {
    "colab_type": "text",
    "id": "rAQ5iGDJa2LM"
   },
   "source": [
    "## References\n",
    "\n",
    "Branco, P., Torgo, L., Ribeiro, R. (2017). SMOGN: A Pre-Processing Approach for Imbalanced Regression. Proceedings of Machine Learning Research, 74:36-50. http://proceedings.mlr.press/v74/branco17a/branco17a.pdf.\n",
    "\n",
    "Branco, P., Torgo, L., & Ribeiro, R. P. (2019). Pre-processing approaches for imbalanced distributions in regression. Neurocomputing, 343, 76-99. https://www.sciencedirect.com/science/article/abs/pii/S0925231219301638.\n",
    "\n",
    "De Cock, D. (2011). Ames, Iowa: Alternative to the Boston Housing Data as an End of Semester Regression Project. Journal of Statistics Education 19(3). https://doi.org/10.1080/10691898.2011.11889627.\n",
    "\n",
    "Wilson, D. L. (1972). Asymptotic properties of nearest neighbor rules using edited data. IEEE Transactions on Systems, Man, and Cybernetics, (3), 408-421. https://ieeexplore.ieee.org/abstract/document/4309137\n",
    "\n",
    "Kunz, N. (2019). SMOGN: Synthetic Minority Over-Sampling for Regression with Gaussian Noise (Version 0.1.0). Python Package Index.\n",
    "https://pypi.org/project/smogn. \n",
    "\n",
    "Sayah, F. (2020). College data. Kaggle. https://www.kaggle.com/datasets/faressayah/college-data"
   ]
  }
 ],
 "metadata": {
  "colab": {
   "collapsed_sections": [],
   "name": "smogn-example-1-beg.ipynb",
   "provenance": []
  },
  "kernelspec": {
   "display_name": "Python 3 (ipykernel)",
   "language": "python",
   "name": "python3"
  },
  "language_info": {
   "codemirror_mode": {
    "name": "ipython",
    "version": 3
   },
   "file_extension": ".py",
   "mimetype": "text/x-python",
   "name": "python",
   "nbconvert_exporter": "python",
   "pygments_lexer": "ipython3",
   "version": "3.10.7"
  }
 },
 "nbformat": 4,
 "nbformat_minor": 1
}
