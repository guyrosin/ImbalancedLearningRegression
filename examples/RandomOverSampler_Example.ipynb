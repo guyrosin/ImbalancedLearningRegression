{
 "cells": [
  {
   "cell_type": "markdown",
   "metadata": {},
   "source": [
    "# ImbalancedLearningRegression (1.0.1): Usage\n",
    "---\n",
    "## RandomOverSampler"
   ]
  },
  {
   "cell_type": "markdown",
   "metadata": {},
   "source": [
    "### Dependencies\n",
    "\n",
    "Load up dependencies to plot and create example data."
   ]
  },
  {
   "cell_type": "code",
   "execution_count": 1,
   "metadata": {},
   "outputs": [],
   "source": [
    "## Load Dependencies\n",
    "import pandas\n",
    "import seaborn\n",
    "import matplotlib.pyplot as plt\n",
    "from ImbalancedLearningRegression.over_sampling import RandomOverSampler"
   ]
  },
  {
   "cell_type": "markdown",
   "metadata": {},
   "source": [
    "### Data"
   ]
  },
  {
   "cell_type": "code",
   "execution_count": 2,
   "metadata": {},
   "outputs": [],
   "source": [
    "## Load Data\n",
    "data = pandas.read_csv('https://raw.githubusercontent.com/paobranco/ImbalancedLearningRegression/master/data/housing.csv')"
   ]
  },
  {
   "cell_type": "markdown",
   "metadata": {},
   "source": [
    "### RandomOverSampler\n",
    "\n",
    "This is the core of the example.\n",
    "<br>\n",
    "Instantiate a RandomOverSampler object.\n",
    "<br>\n",
    "Set the response_variable to the header for the numerical continuous dependent variable in your data set.\n",
    "<br>\n",
    "Conduct Random Oversampling over the data by passing it, and the response_variable as arguments to the fit_resample() function."
   ]
  },
  {
   "cell_type": "code",
   "execution_count": 3,
   "metadata": {},
   "outputs": [
    {
     "name": "stderr",
     "output_type": "stream",
     "text": [
      "r_index: 100%|##########| 514/514 [00:00<00:00, 543.04it/s]\n"
     ]
    },
    {
     "ename": "ValueError",
     "evalue": "Length mismatch: Expected axis has 59 elements, new values have 62 elements",
     "output_type": "error",
     "traceback": [
      "\u001b[0;31m---------------------------------------------------------------------------\u001b[0m",
      "\u001b[0;31mValueError\u001b[0m                                Traceback (most recent call last)",
      "Cell \u001b[0;32mIn[3], line 5\u001b[0m\n\u001b[1;32m      2\u001b[0m response_variable   \u001b[39m=\u001b[39m \u001b[39m'\u001b[39m\u001b[39mSalePrice\u001b[39m\u001b[39m'\u001b[39m\n\u001b[1;32m      4\u001b[0m \u001b[39m## Conduct Random Oversampling\u001b[39;00m\n\u001b[0;32m----> 5\u001b[0m resampled \u001b[39m=\u001b[39m random_over_sampler\u001b[39m.\u001b[39;49mfit_resample(data \u001b[39m=\u001b[39;49m data, response_variable \u001b[39m=\u001b[39;49m response_variable)\n",
      "File \u001b[0;32m~/Documents/HonoursProject/PackageTesting/ImbalancedLearningRegression/ImbalancedLearningRegression/over_sampling/random_over_sampler.py:139\u001b[0m, in \u001b[0;36mRandomOverSampler.fit_resample\u001b[0;34m(self, data, response_variable)\u001b[0m\n\u001b[1;32m    136\u001b[0m intervals, perc  \u001b[39m=\u001b[39m \u001b[39mself\u001b[39m\u001b[39m.\u001b[39m_identify_intervals(response_variable_sorted \u001b[39m=\u001b[39m response_variable_sorted, relevances \u001b[39m=\u001b[39m relevances)\n\u001b[1;32m    138\u001b[0m \u001b[39m## Oversample Data\u001b[39;00m\n\u001b[0;32m--> 139\u001b[0m new_data \u001b[39m=\u001b[39m \u001b[39mself\u001b[39;49m\u001b[39m.\u001b[39;49m_oversample(data \u001b[39m=\u001b[39;49m new_data, indices \u001b[39m=\u001b[39;49m intervals, perc \u001b[39m=\u001b[39;49m perc)\n\u001b[1;32m    141\u001b[0m \u001b[39m## Reformat New Data and Return\u001b[39;00m\n\u001b[1;32m    142\u001b[0m new_data \u001b[39m=\u001b[39m \u001b[39mself\u001b[39m\u001b[39m.\u001b[39m_format_new_data(new_data \u001b[39m=\u001b[39m new_data, original_data \u001b[39m=\u001b[39m data, response_variable \u001b[39m=\u001b[39m response_variable)\n",
      "File \u001b[0;32m~/Documents/HonoursProject/PackageTesting/ImbalancedLearningRegression/ImbalancedLearningRegression/over_sampling/random_over_sampler.py:166\u001b[0m, in \u001b[0;36mRandomOverSampler._oversample\u001b[0;34m(self, data, indices, perc)\u001b[0m\n\u001b[1;32m    164\u001b[0m synth_data, pre_numerical_processed_data \u001b[39m=\u001b[39m \u001b[39mself\u001b[39m\u001b[39m.\u001b[39m_preprocess_synthetic_data(data \u001b[39m=\u001b[39m data, indices \u001b[39m=\u001b[39m pts\u001b[39m.\u001b[39mindex)\n\u001b[1;32m    165\u001b[0m synth_data \u001b[39m=\u001b[39m \u001b[39mself\u001b[39m\u001b[39m.\u001b[39m_random_oversample(synth_data \u001b[39m=\u001b[39m synth_data, perc \u001b[39m=\u001b[39m perc[idx] \u001b[39mif\u001b[39;00m \u001b[39mnot\u001b[39;00m \u001b[39mself\u001b[39m\u001b[39m.\u001b[39mmanual_perc \u001b[39melse\u001b[39;00m \u001b[39mself\u001b[39m\u001b[39m.\u001b[39mperc_oversampling \u001b[39m+\u001b[39m \u001b[39m1\u001b[39m)\n\u001b[0;32m--> 166\u001b[0m synth_data \u001b[39m=\u001b[39m \u001b[39mself\u001b[39;49m\u001b[39m.\u001b[39;49m_format_synthetic_data(data \u001b[39m=\u001b[39;49m data, synth_data \u001b[39m=\u001b[39;49m synth_data, pre_numerical_processed_data \u001b[39m=\u001b[39;49m pre_numerical_processed_data)\n\u001b[1;32m    168\u001b[0m \u001b[39m## concatenate over-sampling\u001b[39;00m\n\u001b[1;32m    169\u001b[0m \u001b[39m## results to modified training set\u001b[39;00m\n\u001b[1;32m    170\u001b[0m new_data \u001b[39m=\u001b[39m concat([synth_data, new_data], ignore_index \u001b[39m=\u001b[39m \u001b[39mTrue\u001b[39;00m)\n",
      "File \u001b[0;32m~/Documents/HonoursProject/PackageTesting/ImbalancedLearningRegression/ImbalancedLearningRegression/base.py:379\u001b[0m, in \u001b[0;36mBaseSampler._format_synthetic_data\u001b[0;34m(self, data, synth_data, pre_numerical_processed_data)\u001b[0m\n\u001b[1;32m    374\u001b[0m         synth_data\u001b[39m.\u001b[39mloc[:, column] \u001b[39m=\u001b[39m synth_data\u001b[39m.\u001b[39mloc[:, column]\u001b[39m.\u001b[39mclip(lower \u001b[39m=\u001b[39m \u001b[39m0\u001b[39m)\n\u001b[1;32m    376\u001b[0m \u001b[39m## remove constant columns from the original data set copied by value\u001b[39;00m\n\u001b[1;32m    377\u001b[0m \u001b[39m## and use the remaining column headers and set the resampled DataFrame\u001b[39;00m\n\u001b[1;32m    378\u001b[0m \u001b[39m## columns to the original dataset\u001b[39;00m\n\u001b[0;32m--> 379\u001b[0m synth_data\u001b[39m.\u001b[39mcolumns \u001b[39m=\u001b[39m data\u001b[39m.\u001b[39mdrop(const_cols, axis \u001b[39m=\u001b[39m \u001b[39m1\u001b[39m)\u001b[39m.\u001b[39mcolumns \n\u001b[1;32m    380\u001b[0m \u001b[39m## reintroduce constant features previously removed\u001b[39;00m\n\u001b[1;32m    381\u001b[0m \u001b[39mfor\u001b[39;00m column \u001b[39min\u001b[39;00m const_cols:\n",
      "File \u001b[0;32m~/anaconda3/envs/ImbalancedLearningRegression/lib/python3.10/site-packages/pandas/core/generic.py:5915\u001b[0m, in \u001b[0;36mNDFrame.__setattr__\u001b[0;34m(self, name, value)\u001b[0m\n\u001b[1;32m   5913\u001b[0m \u001b[39mtry\u001b[39;00m:\n\u001b[1;32m   5914\u001b[0m     \u001b[39mobject\u001b[39m\u001b[39m.\u001b[39m\u001b[39m__getattribute__\u001b[39m(\u001b[39mself\u001b[39m, name)\n\u001b[0;32m-> 5915\u001b[0m     \u001b[39mreturn\u001b[39;00m \u001b[39mobject\u001b[39;49m\u001b[39m.\u001b[39;49m\u001b[39m__setattr__\u001b[39;49m(\u001b[39mself\u001b[39;49m, name, value)\n\u001b[1;32m   5916\u001b[0m \u001b[39mexcept\u001b[39;00m \u001b[39mAttributeError\u001b[39;00m:\n\u001b[1;32m   5917\u001b[0m     \u001b[39mpass\u001b[39;00m\n",
      "File \u001b[0;32m~/anaconda3/envs/ImbalancedLearningRegression/lib/python3.10/site-packages/pandas/_libs/properties.pyx:69\u001b[0m, in \u001b[0;36mpandas._libs.properties.AxisProperty.__set__\u001b[0;34m()\u001b[0m\n",
      "File \u001b[0;32m~/anaconda3/envs/ImbalancedLearningRegression/lib/python3.10/site-packages/pandas/core/generic.py:823\u001b[0m, in \u001b[0;36mNDFrame._set_axis\u001b[0;34m(self, axis, labels)\u001b[0m\n\u001b[1;32m    821\u001b[0m \u001b[39mdef\u001b[39;00m \u001b[39m_set_axis\u001b[39m(\u001b[39mself\u001b[39m, axis: \u001b[39mint\u001b[39m, labels: AnyArrayLike \u001b[39m|\u001b[39m \u001b[39mlist\u001b[39m) \u001b[39m-\u001b[39m\u001b[39m>\u001b[39m \u001b[39mNone\u001b[39;00m:\n\u001b[1;32m    822\u001b[0m     labels \u001b[39m=\u001b[39m ensure_index(labels)\n\u001b[0;32m--> 823\u001b[0m     \u001b[39mself\u001b[39;49m\u001b[39m.\u001b[39;49m_mgr\u001b[39m.\u001b[39;49mset_axis(axis, labels)\n\u001b[1;32m    824\u001b[0m     \u001b[39mself\u001b[39m\u001b[39m.\u001b[39m_clear_item_cache()\n",
      "File \u001b[0;32m~/anaconda3/envs/ImbalancedLearningRegression/lib/python3.10/site-packages/pandas/core/internals/managers.py:230\u001b[0m, in \u001b[0;36mBaseBlockManager.set_axis\u001b[0;34m(self, axis, new_labels)\u001b[0m\n\u001b[1;32m    228\u001b[0m \u001b[39mdef\u001b[39;00m \u001b[39mset_axis\u001b[39m(\u001b[39mself\u001b[39m, axis: \u001b[39mint\u001b[39m, new_labels: Index) \u001b[39m-\u001b[39m\u001b[39m>\u001b[39m \u001b[39mNone\u001b[39;00m:\n\u001b[1;32m    229\u001b[0m     \u001b[39m# Caller is responsible for ensuring we have an Index object.\u001b[39;00m\n\u001b[0;32m--> 230\u001b[0m     \u001b[39mself\u001b[39;49m\u001b[39m.\u001b[39;49m_validate_set_axis(axis, new_labels)\n\u001b[1;32m    231\u001b[0m     \u001b[39mself\u001b[39m\u001b[39m.\u001b[39maxes[axis] \u001b[39m=\u001b[39m new_labels\n",
      "File \u001b[0;32m~/anaconda3/envs/ImbalancedLearningRegression/lib/python3.10/site-packages/pandas/core/internals/base.py:70\u001b[0m, in \u001b[0;36mDataManager._validate_set_axis\u001b[0;34m(self, axis, new_labels)\u001b[0m\n\u001b[1;32m     67\u001b[0m     \u001b[39mpass\u001b[39;00m\n\u001b[1;32m     69\u001b[0m \u001b[39melif\u001b[39;00m new_len \u001b[39m!=\u001b[39m old_len:\n\u001b[0;32m---> 70\u001b[0m     \u001b[39mraise\u001b[39;00m \u001b[39mValueError\u001b[39;00m(\n\u001b[1;32m     71\u001b[0m         \u001b[39mf\u001b[39m\u001b[39m\"\u001b[39m\u001b[39mLength mismatch: Expected axis has \u001b[39m\u001b[39m{\u001b[39;00mold_len\u001b[39m}\u001b[39;00m\u001b[39m elements, new \u001b[39m\u001b[39m\"\u001b[39m\n\u001b[1;32m     72\u001b[0m         \u001b[39mf\u001b[39m\u001b[39m\"\u001b[39m\u001b[39mvalues have \u001b[39m\u001b[39m{\u001b[39;00mnew_len\u001b[39m}\u001b[39;00m\u001b[39m elements\u001b[39m\u001b[39m\"\u001b[39m\n\u001b[1;32m     73\u001b[0m     )\n",
      "\u001b[0;31mValueError\u001b[0m: Length mismatch: Expected axis has 59 elements, new values have 62 elements"
     ]
    }
   ],
   "source": [
    "random_over_sampler = RandomOverSampler()\n",
    "response_variable   = 'SalePrice'\n",
    "\n",
    "## Conduct Random Oversampling\n",
    "resampled = random_over_sampler.fit_resample(data = data, response_variable = response_variable)"
   ]
  }
 ],
 "metadata": {
  "kernelspec": {
   "display_name": "Python 3.10.9 ('ImbalancedLearningRegression')",
   "language": "python",
   "name": "python3"
  },
  "language_info": {
   "codemirror_mode": {
    "name": "ipython",
    "version": 3
   },
   "file_extension": ".py",
   "mimetype": "text/x-python",
   "name": "python",
   "nbconvert_exporter": "python",
   "pygments_lexer": "ipython3",
   "version": "3.10.9"
  },
  "orig_nbformat": 4,
  "vscode": {
   "interpreter": {
    "hash": "1c961f0653c6e1bdf33e63c7e72c10f24f14dece539fb6df7c7f98656204e204"
   }
  }
 },
 "nbformat": 4,
 "nbformat_minor": 2
}
